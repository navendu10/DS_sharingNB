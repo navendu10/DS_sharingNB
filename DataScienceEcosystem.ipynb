{
 "cells": [
  {
   "cell_type": "markdown",
   "id": "d87ca387-b053-42be-bb5c-5569d295c233",
   "metadata": {},
   "source": [
    "# Data Science Tools and Ecosystem\n",
    "In this notebook, Data Science Tools and Ecosystem are summarized"
   ]
  },
  {
   "cell_type": "markdown",
   "id": "eff694d3-d086-4524-a3fd-6a2e9c0cfafd",
   "metadata": {},
   "source": [
    "**Objectives:**\n",
    "\n",
    "- List popular languages for Data Science\n",
    "- Identify commonly used libraries in data science\n",
    "- Introduce development environment tools for data science\n",
    "- Provide examples of evaluating arithmetic expressions in Python\n",
    "- Demonstrate conversion of units (e.g., minutes to hours) in Python"
   ]
  },
  {
   "cell_type": "markdown",
   "id": "9812f46f-2d08-44fe-92a0-4241331e5c3b",
   "metadata": {},
   "source": [
    "## Overview\n",
    "\n",
    "Some of the popular languages that Data Scientists use are:\n",
    "\n",
    "1. Python\n",
    "2. R\n",
    "3. Julia"
   ]
  },
  {
   "cell_type": "markdown",
   "id": "439035da-25e3-41c8-8dbb-3575717e49dd",
   "metadata": {},
   "source": [
    "## Overview\n",
    "\n",
    "Some of the commonly used libraries used by Data Scientists include:\n",
    "\n",
    "1. NumPy\n",
    "2. Pandas\n",
    "3. Scikit-learn"
   ]
  },
  {
   "cell_type": "markdown",
   "id": "3671bfe6-62b6-40b3-b707-257160351180",
   "metadata": {},
   "source": [
    "\n",
    "## Data Science Tools\n",
    "\n",
    "| Development Environment Tools |\n",
    "| ----------------------------- |\n",
    "| Jupyter Notebook             |\n",
    "| RStudio                       |\n",
    "| VSCode + Python Extension    |"
   ]
  },
  {
   "cell_type": "markdown",
   "id": "58635732-2628-4eb2-8234-3b085cb7b119",
   "metadata": {},
   "source": [
    "### Examples of Evaluating Arithmetic Expressions in Python\n",
    "\n",
    "Below are a few examples of evaluating arithmetic expressions in Python:\n",
    "```python\n",
    "# Example 1\n",
    "result_1 = 5 + 3 * 2\n",
    "print(result_1)\n",
    "\n",
    "# Example 2\n",
    "result_2 = (10 - 2) / 4\n",
    "print(result_2)\n",
    "\n",
    "# Example 3\n",
    "result_3 = 2 ** 3\n",
    "print(result_3)"
   ]
  },
  {
   "cell_type": "code",
   "execution_count": 1,
   "id": "3e601e53-3a24-45a9-8b77-5b9266d44ecd",
   "metadata": {
    "tags": []
   },
   "outputs": [
    {
     "data": {
      "text/plain": [
       "17"
      ]
     },
     "execution_count": 1,
     "metadata": {},
     "output_type": "execute_result"
    }
   ],
   "source": [
    "# This is a simple arithmetic expression to multiply then add integers.\n",
    "result = (3 * 4) + 5\n",
    "result\n"
   ]
  },
  {
   "cell_type": "code",
   "execution_count": 4,
   "id": "5ecd4b56-5371-470c-8608-a42eb0fb8359",
   "metadata": {
    "tags": []
   },
   "outputs": [
    {
     "data": {
      "text/plain": [
       "3.3333333333333335"
      ]
     },
     "execution_count": 4,
     "metadata": {},
     "output_type": "execute_result"
    }
   ],
   "source": [
    "# This will convert 200 minutes to hours by dividing by 60.\n",
    "minutes = 200\n",
    "hours = minutes/60\n",
    "hours"
   ]
  },
  {
   "cell_type": "markdown",
   "id": "baf8ffcd-8ae1-4e2a-94bf-f8f96d6166db",
   "metadata": {},
   "source": [
    "## Author\n",
    "\n",
    "Navendu Vyas\n"
   ]
  },
  {
   "cell_type": "code",
   "execution_count": null,
   "id": "0d3ee82f-21f1-47b1-8c76-6e857632fae4",
   "metadata": {},
   "outputs": [],
   "source": []
  }
 ],
 "metadata": {
  "kernelspec": {
   "display_name": "Python",
   "language": "python",
   "name": "conda-env-python-py"
  },
  "language_info": {
   "codemirror_mode": {
    "name": "ipython",
    "version": 3
   },
   "file_extension": ".py",
   "mimetype": "text/x-python",
   "name": "python",
   "nbconvert_exporter": "python",
   "pygments_lexer": "ipython3",
   "version": "3.7.12"
  }
 },
 "nbformat": 4,
 "nbformat_minor": 5
}
